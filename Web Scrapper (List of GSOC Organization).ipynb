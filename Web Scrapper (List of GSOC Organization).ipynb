{
 "cells": [
  {
   "cell_type": "code",
   "execution_count": 136,
   "metadata": {
    "scrolled": true
   },
   "outputs": [],
   "source": [
    "import requests\n",
    "from bs4 import BeautifulSoup\n",
    "import pandas as pd\n",
    "import re\n",
    "\n",
    "years = [\"2019\", \"2018\", \"2017\", \"2016\", \"2015\", \"2014\", \"2013\", \"2012\", \"2011\", \"2010\", \"2009\"]\n",
    "\n",
    "urls = []\n",
    "urls.append(\"https://summerofcode.withgoogle.com/archive/2019/organizations/\")\n",
    "urls.append(\"https://summerofcode.withgoogle.com/archive/2018/organizations/\")\n",
    "urls.append(\"https://summerofcode.withgoogle.com/archive/2017/organizations/\")\n",
    "urls.append(\"https://summerofcode.withgoogle.com/archive/2016/organizations/\")\n",
    "\n",
    "urls.append(\"https://www.google-melange.com/archive/gsoc/2015\")\n",
    "urls.append(\"https://www.google-melange.com/archive/gsoc/2014\")\n",
    "urls.append(\"https://www.google-melange.com/archive/gsoc/2013\")\n",
    "urls.append(\"https://www.google-melange.com/archive/gsoc/2012\")\n",
    "urls.append(\"https://www.google-melange.com/archive/gsoc/2011\")\n",
    "urls.append(\"https://www.google-melange.com/archive/gsoc/2010\")\n",
    "urls.append(\"https://www.google-melange.com/archive/gsoc/2009\")\n"
   ]
  },
  {
   "cell_type": "code",
   "execution_count": 156,
   "metadata": {},
   "outputs": [],
   "source": [
    "# TO store list of dataframe\n",
    "df_list = []\n",
    "\n",
    "for i in range(len(urls)):\n",
    "    \n",
    "    lst = []\n",
    "    \n",
    "    if(i < 4):\n",
    "        r = requests.get(urls[i])                            # makes a request to the web page and gets its HTML\n",
    "        soup = BeautifulSoup(r.content)                      # stores the HTML page in 'soup', a BeautifulSoup object\n",
    "\n",
    "        for item in soup.findAll(class_=\"organization-card__name\"):\n",
    "            lst.append(item.text)\n",
    "\n",
    "    else:\n",
    "        r = requests.get(urls[i])\n",
    "        soup = BeautifulSoup(r.content)\n",
    "\n",
    "        for tag in soup.findAll(\"span\", {\"class\" : \"mdl-list__item-primary-content\"}):\n",
    "            lst.append(tag.find(\"a\", recursive=False).text)\n",
    "\n",
    "\n",
    "    \n",
    "    # Create Dataframe for Oraganization name with year\n",
    "    df = pd.DataFrame()\n",
    "    df['Oraganization'] = lst\n",
    "    df[\"Year\"] = years[i]\n",
    "    \n",
    "    df_list.append(df)\n",
    "\n",
    "    \n"
   ]
  },
  {
   "cell_type": "code",
   "execution_count": null,
   "metadata": {},
   "outputs": [],
   "source": []
  },
  {
   "cell_type": "code",
   "execution_count": 166,
   "metadata": {},
   "outputs": [
    {
     "data": {
      "text/html": [
       "<div>\n",
       "<style scoped>\n",
       "    .dataframe tbody tr th:only-of-type {\n",
       "        vertical-align: middle;\n",
       "    }\n",
       "\n",
       "    .dataframe tbody tr th {\n",
       "        vertical-align: top;\n",
       "    }\n",
       "\n",
       "    .dataframe thead th {\n",
       "        text-align: right;\n",
       "    }\n",
       "</style>\n",
       "<table border=\"1\" class=\"dataframe\">\n",
       "  <thead>\n",
       "    <tr style=\"text-align: right;\">\n",
       "      <th></th>\n",
       "      <th>Oraganization</th>\n",
       "      <th>Year</th>\n",
       "    </tr>\n",
       "  </thead>\n",
       "  <tbody>\n",
       "    <tr>\n",
       "      <th>0</th>\n",
       "      <td>52°North Initiative for Geospatial Open Source...</td>\n",
       "      <td>2019</td>\n",
       "    </tr>\n",
       "    <tr>\n",
       "      <th>1</th>\n",
       "      <td>AboutCode.org</td>\n",
       "      <td>2019</td>\n",
       "    </tr>\n",
       "    <tr>\n",
       "      <th>2</th>\n",
       "      <td>AerospaceResearch.net</td>\n",
       "      <td>2019</td>\n",
       "    </tr>\n",
       "    <tr>\n",
       "      <th>3</th>\n",
       "      <td>aimacode</td>\n",
       "      <td>2019</td>\n",
       "    </tr>\n",
       "    <tr>\n",
       "      <th>4</th>\n",
       "      <td>Amahi</td>\n",
       "      <td>2019</td>\n",
       "    </tr>\n",
       "    <tr>\n",
       "      <th>...</th>\n",
       "      <td>...</td>\n",
       "      <td>...</td>\n",
       "    </tr>\n",
       "    <tr>\n",
       "      <th>1938</th>\n",
       "      <td>X.Org</td>\n",
       "      <td>2009</td>\n",
       "    </tr>\n",
       "    <tr>\n",
       "      <th>1939</th>\n",
       "      <td>Xelerance Corporation</td>\n",
       "      <td>2009</td>\n",
       "    </tr>\n",
       "    <tr>\n",
       "      <th>1940</th>\n",
       "      <td>Xiph.Org Foundation</td>\n",
       "      <td>2009</td>\n",
       "    </tr>\n",
       "    <tr>\n",
       "      <th>1941</th>\n",
       "      <td>XMMS2</td>\n",
       "      <td>2009</td>\n",
       "    </tr>\n",
       "    <tr>\n",
       "      <th>1942</th>\n",
       "      <td>XWiki</td>\n",
       "      <td>2009</td>\n",
       "    </tr>\n",
       "  </tbody>\n",
       "</table>\n",
       "<p>1943 rows × 2 columns</p>\n",
       "</div>"
      ],
      "text/plain": [
       "                                          Oraganization  Year\n",
       "0     52°North Initiative for Geospatial Open Source...  2019\n",
       "1                                         AboutCode.org  2019\n",
       "2                                 AerospaceResearch.net  2019\n",
       "3                                              aimacode  2019\n",
       "4                                                 Amahi  2019\n",
       "...                                                 ...   ...\n",
       "1938                                              X.Org  2009\n",
       "1939                              Xelerance Corporation  2009\n",
       "1940                                Xiph.Org Foundation  2009\n",
       "1941                                              XMMS2  2009\n",
       "1942                                              XWiki  2009\n",
       "\n",
       "[1943 rows x 2 columns]"
      ]
     },
     "execution_count": 166,
     "metadata": {},
     "output_type": "execute_result"
    }
   ],
   "source": [
    "GSOC_Oraganization = pd.concat(df_list, ignore_index=True)\n",
    "\n",
    "GSOC_Oraganization\n"
   ]
  },
  {
   "cell_type": "code",
   "execution_count": 163,
   "metadata": {},
   "outputs": [],
   "source": [
    "GSOC_Oraganization.to_excel(\"GSOC_Oraganization.xlsx\", index=False)"
   ]
  },
  {
   "cell_type": "code",
   "execution_count": 165,
   "metadata": {},
   "outputs": [],
   "source": [
    "GSOC_Oraganization.to_csv('GSOC_Oraganization.csv', index=False)"
   ]
  },
  {
   "cell_type": "code",
   "execution_count": null,
   "metadata": {},
   "outputs": [],
   "source": []
  }
 ],
 "metadata": {
  "kernelspec": {
   "display_name": "Python 3",
   "language": "python",
   "name": "python3"
  },
  "language_info": {
   "codemirror_mode": {
    "name": "ipython",
    "version": 3
   },
   "file_extension": ".py",
   "mimetype": "text/x-python",
   "name": "python",
   "nbconvert_exporter": "python",
   "pygments_lexer": "ipython3",
   "version": "3.8.3"
  },
  "varInspector": {
   "cols": {
    "lenName": 16,
    "lenType": 16,
    "lenVar": 40
   },
   "kernels_config": {
    "python": {
     "delete_cmd_postfix": "",
     "delete_cmd_prefix": "del ",
     "library": "var_list.py",
     "varRefreshCmd": "print(var_dic_list())"
    },
    "r": {
     "delete_cmd_postfix": ") ",
     "delete_cmd_prefix": "rm(",
     "library": "var_list.r",
     "varRefreshCmd": "cat(var_dic_list()) "
    }
   },
   "types_to_exclude": [
    "module",
    "function",
    "builtin_function_or_method",
    "instance",
    "_Feature"
   ],
   "window_display": false
  }
 },
 "nbformat": 4,
 "nbformat_minor": 4
}
